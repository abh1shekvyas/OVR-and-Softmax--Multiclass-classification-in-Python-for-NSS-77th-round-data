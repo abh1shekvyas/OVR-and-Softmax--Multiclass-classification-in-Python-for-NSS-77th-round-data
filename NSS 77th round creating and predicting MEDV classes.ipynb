{
 "cells": [
  {
   "cell_type": "code",
   "execution_count": 29,
   "metadata": {},
   "outputs": [],
   "source": [
    "import pandas as pd \n",
    "import numpy as np\n",
    "import matplotlib.pyplot as plt\n",
    "from sklearn.model_selection import train_test_split\n",
    "from sklearn.linear_model import LogisticRegression\n",
    "from sklearn.feature_selection import SelectKBest, f_classif"
   ]
  },
  {
   "cell_type": "code",
   "execution_count": 127,
   "metadata": {},
   "outputs": [
    {
     "name": "stdout",
     "output_type": "stream",
     "text": [
      "      CRIM    ZN  INDUS  CHAS    NOX     RM   AGE     DIS  RAD  TAX  ...  \\\n",
      "0  0.00632  18.0   2.31     0  0.538  6.575  65.2  4.0900    1  296  ...   \n",
      "1  0.02731   0.0   7.07     0  0.469  6.421  78.9  4.9671    2  242  ...   \n",
      "2  0.02729   0.0   7.07     0  0.469  7.185  61.1  4.9671    2  242  ...   \n",
      "3  0.03237   0.0   2.18     0  0.458  6.998  45.8  6.0622    3  222  ...   \n",
      "4  0.06905   0.0   2.18     0  0.458  7.147  54.2  6.0622    3  222  ...   \n",
      "\n",
      "   CHAS3      NOX3         RM3        AGE3        DIS3  RAD3      TAX3  \\\n",
      "0      0  0.155721  284.241359  277167.808   68.417929     1  25934336   \n",
      "1      0  0.103162  264.732957  491169.069  122.548700     8  14172488   \n",
      "2      0  0.103162  370.920057  228099.131  122.548700     8  14172488   \n",
      "3      0  0.096072  342.706084   96071.912  222.787480    27  10941048   \n",
      "4      0  0.096072  365.065966  159220.088  222.787480    27  10941048   \n",
      "\n",
      "   PTRATIO3           B3      LSTAT3  \n",
      "0  3581.577  62523502.21  123.505992  \n",
      "1  5639.752  62523502.21  763.551944  \n",
      "2  5639.752  60619722.08   65.450827  \n",
      "3  6539.203  61456849.43   25.412184  \n",
      "4  6539.203  62523502.21  151.419437  \n",
      "\n",
      "[5 rows x 46 columns]\n",
      "Index(['CRIM', 'ZN', 'INDUS', 'CHAS', 'NOX', 'RM', 'AGE', 'DIS', 'RAD', 'TAX',\n",
      "       'PTRATIO', 'B', 'LSTAT', '<10', '10-20', '20-30', '30-40', '>40',\n",
      "       'class', 'MEDV', 'CRIM2', 'ZN2', 'INDUS2', 'CHAS2', 'NOX2', 'RM2',\n",
      "       'AGE2', 'DIS2', 'RAD2', 'TAX2', 'PTRATIO2', 'B2', 'LSTAT2', 'CRIM3',\n",
      "       'ZN3', 'INDUS3', 'CHAS3', 'NOX3', 'RM3', 'AGE3', 'DIS3', 'RAD3', 'TAX3',\n",
      "       'PTRATIO3', 'B3', 'LSTAT3'],\n",
      "      dtype='object')\n"
     ]
    },
    {
     "data": {
      "text/plain": [
       "CRIM        0\n",
       "ZN          0\n",
       "INDUS       0\n",
       "CHAS        0\n",
       "NOX         0\n",
       "RM          0\n",
       "AGE         0\n",
       "DIS         0\n",
       "RAD         0\n",
       "TAX         0\n",
       "PTRATIO     0\n",
       "B           0\n",
       "LSTAT       0\n",
       "<10         0\n",
       "10-20       0\n",
       "20-30       0\n",
       "30-40       0\n",
       ">40         0\n",
       "class       0\n",
       "MEDV        0\n",
       "CRIM2       0\n",
       "ZN2         0\n",
       "INDUS2      0\n",
       "CHAS2       0\n",
       "NOX2        0\n",
       "RM2         0\n",
       "AGE2        0\n",
       "DIS2        0\n",
       "RAD2        0\n",
       "TAX2        0\n",
       "PTRATIO2    0\n",
       "B2          0\n",
       "LSTAT2      0\n",
       "CRIM3       0\n",
       "ZN3         0\n",
       "INDUS3      0\n",
       "CHAS3       0\n",
       "NOX3        0\n",
       "RM3         0\n",
       "AGE3        0\n",
       "DIS3        0\n",
       "RAD3        0\n",
       "TAX3        0\n",
       "PTRATIO3    0\n",
       "B3          0\n",
       "LSTAT3      0\n",
       "dtype: int64"
      ]
     },
     "execution_count": 127,
     "metadata": {},
     "output_type": "execute_result"
    }
   ],
   "source": [
    "# Load data \n",
    "\n",
    "data = pd.read_csv('C:/Users/dell/Desktop/3rd sem tiss/ml/data1.csv')\n",
    "print(data.head())\n",
    "print(data.columns)\n",
    "data.isnull().sum()"
   ]
  },
  {
   "cell_type": "code",
   "execution_count": null,
   "metadata": {},
   "outputs": [],
   "source": []
  },
  {
   "cell_type": "code",
   "execution_count": 126,
   "metadata": {},
   "outputs": [],
   "source": [
    "# if column ends with 2 or 3 it means that they are respective degree 2 and 3 polynomials\n",
    "\n"
   ]
  },
  {
   "cell_type": "code",
   "execution_count": null,
   "metadata": {},
   "outputs": [],
   "source": []
  },
  {
   "cell_type": "code",
   "execution_count": null,
   "metadata": {},
   "outputs": [],
   "source": []
  },
  {
   "cell_type": "code",
   "execution_count": 61,
   "metadata": {},
   "outputs": [
    {
     "name": "stdout",
     "output_type": "stream",
     "text": [
      "<enumerate object at 0x000002691BDB1188>\n"
     ]
    },
    {
     "data": {
      "text/plain": [
       "<Figure size 1080x1368 with 0 Axes>"
      ]
     },
     "metadata": {},
     "output_type": "display_data"
    }
   ],
   "source": [
    "# Dividing the classes for the classes of MEDV column, later to be used for classification\n",
    "\n",
    "#already done on excel\n"
   ]
  },
  {
   "cell_type": "code",
   "execution_count": 74,
   "metadata": {
    "scrolled": true
   },
   "outputs": [
    {
     "ename": "ValueError",
     "evalue": "num must be 1 <= num <= 36, not 37",
     "output_type": "error",
     "traceback": [
      "\u001b[1;31m---------------------------------------------------------------------------\u001b[0m",
      "\u001b[1;31mValueError\u001b[0m                                Traceback (most recent call last)",
      "\u001b[1;32m<ipython-input-74-977cf3b55052>\u001b[0m in \u001b[0;36m<module>\u001b[1;34m\u001b[0m\n\u001b[0;32m      3\u001b[0m \u001b[0mplt\u001b[0m\u001b[1;33m.\u001b[0m\u001b[0mfigure\u001b[0m\u001b[1;33m(\u001b[0m\u001b[0mfigsize\u001b[0m\u001b[1;33m=\u001b[0m\u001b[1;33m(\u001b[0m\u001b[1;36m15\u001b[0m\u001b[1;33m,\u001b[0m\u001b[1;36m19\u001b[0m\u001b[1;33m)\u001b[0m\u001b[1;33m)\u001b[0m\u001b[1;33m\u001b[0m\u001b[1;33m\u001b[0m\u001b[0m\n\u001b[0;32m      4\u001b[0m \u001b[1;32mfor\u001b[0m \u001b[0mi\u001b[0m \u001b[1;32min\u001b[0m \u001b[0menumerate\u001b[0m\u001b[1;33m(\u001b[0m\u001b[0mfeature\u001b[0m\u001b[1;33m)\u001b[0m\u001b[1;33m:\u001b[0m\u001b[1;33m\u001b[0m\u001b[1;33m\u001b[0m\u001b[0m\n\u001b[1;32m----> 5\u001b[1;33m     \u001b[0mplt\u001b[0m\u001b[1;33m.\u001b[0m\u001b[0msubplot\u001b[0m\u001b[1;33m(\u001b[0m\u001b[1;36m9\u001b[0m\u001b[1;33m,\u001b[0m\u001b[1;36m4\u001b[0m\u001b[1;33m,\u001b[0m\u001b[0mi\u001b[0m\u001b[1;33m[\u001b[0m\u001b[1;36m0\u001b[0m\u001b[1;33m]\u001b[0m\u001b[1;33m+\u001b[0m\u001b[1;36m1\u001b[0m\u001b[1;33m)\u001b[0m\u001b[1;33m\u001b[0m\u001b[1;33m\u001b[0m\u001b[0m\n\u001b[0m\u001b[0;32m      6\u001b[0m     \u001b[0mplt\u001b[0m\u001b[1;33m.\u001b[0m\u001b[0mboxplot\u001b[0m\u001b[1;33m(\u001b[0m\u001b[0mdt1\u001b[0m\u001b[1;33m[\u001b[0m\u001b[0mi\u001b[0m\u001b[1;33m[\u001b[0m\u001b[1;36m1\u001b[0m\u001b[1;33m]\u001b[0m\u001b[1;33m]\u001b[0m\u001b[1;33m)\u001b[0m\u001b[1;33m\u001b[0m\u001b[1;33m\u001b[0m\u001b[0m\n\u001b[0;32m      7\u001b[0m \u001b[1;33m\u001b[0m\u001b[0m\n",
      "\u001b[1;32m~\\anaconda3\\lib\\site-packages\\matplotlib\\pyplot.py\u001b[0m in \u001b[0;36msubplot\u001b[1;34m(*args, **kwargs)\u001b[0m\n\u001b[0;32m   1074\u001b[0m \u001b[1;33m\u001b[0m\u001b[0m\n\u001b[0;32m   1075\u001b[0m     \u001b[0mfig\u001b[0m \u001b[1;33m=\u001b[0m \u001b[0mgcf\u001b[0m\u001b[1;33m(\u001b[0m\u001b[1;33m)\u001b[0m\u001b[1;33m\u001b[0m\u001b[1;33m\u001b[0m\u001b[0m\n\u001b[1;32m-> 1076\u001b[1;33m     \u001b[0ma\u001b[0m \u001b[1;33m=\u001b[0m \u001b[0mfig\u001b[0m\u001b[1;33m.\u001b[0m\u001b[0madd_subplot\u001b[0m\u001b[1;33m(\u001b[0m\u001b[1;33m*\u001b[0m\u001b[0margs\u001b[0m\u001b[1;33m,\u001b[0m \u001b[1;33m**\u001b[0m\u001b[0mkwargs\u001b[0m\u001b[1;33m)\u001b[0m\u001b[1;33m\u001b[0m\u001b[1;33m\u001b[0m\u001b[0m\n\u001b[0m\u001b[0;32m   1077\u001b[0m     \u001b[0mbbox\u001b[0m \u001b[1;33m=\u001b[0m \u001b[0ma\u001b[0m\u001b[1;33m.\u001b[0m\u001b[0mbbox\u001b[0m\u001b[1;33m\u001b[0m\u001b[1;33m\u001b[0m\u001b[0m\n\u001b[0;32m   1078\u001b[0m     \u001b[0mbyebye\u001b[0m \u001b[1;33m=\u001b[0m \u001b[1;33m[\u001b[0m\u001b[1;33m]\u001b[0m\u001b[1;33m\u001b[0m\u001b[1;33m\u001b[0m\u001b[0m\n",
      "\u001b[1;32m~\\anaconda3\\lib\\site-packages\\matplotlib\\figure.py\u001b[0m in \u001b[0;36madd_subplot\u001b[1;34m(self, *args, **kwargs)\u001b[0m\n\u001b[0;32m   1412\u001b[0m                     \u001b[0mself\u001b[0m\u001b[1;33m.\u001b[0m\u001b[0m_axstack\u001b[0m\u001b[1;33m.\u001b[0m\u001b[0mremove\u001b[0m\u001b[1;33m(\u001b[0m\u001b[0max\u001b[0m\u001b[1;33m)\u001b[0m\u001b[1;33m\u001b[0m\u001b[1;33m\u001b[0m\u001b[0m\n\u001b[0;32m   1413\u001b[0m \u001b[1;33m\u001b[0m\u001b[0m\n\u001b[1;32m-> 1414\u001b[1;33m             \u001b[0ma\u001b[0m \u001b[1;33m=\u001b[0m \u001b[0msubplot_class_factory\u001b[0m\u001b[1;33m(\u001b[0m\u001b[0mprojection_class\u001b[0m\u001b[1;33m)\u001b[0m\u001b[1;33m(\u001b[0m\u001b[0mself\u001b[0m\u001b[1;33m,\u001b[0m \u001b[1;33m*\u001b[0m\u001b[0margs\u001b[0m\u001b[1;33m,\u001b[0m \u001b[1;33m**\u001b[0m\u001b[0mkwargs\u001b[0m\u001b[1;33m)\u001b[0m\u001b[1;33m\u001b[0m\u001b[1;33m\u001b[0m\u001b[0m\n\u001b[0m\u001b[0;32m   1415\u001b[0m \u001b[1;33m\u001b[0m\u001b[0m\n\u001b[0;32m   1416\u001b[0m         \u001b[1;32mreturn\u001b[0m \u001b[0mself\u001b[0m\u001b[1;33m.\u001b[0m\u001b[0m_add_axes_internal\u001b[0m\u001b[1;33m(\u001b[0m\u001b[0mkey\u001b[0m\u001b[1;33m,\u001b[0m \u001b[0ma\u001b[0m\u001b[1;33m)\u001b[0m\u001b[1;33m\u001b[0m\u001b[1;33m\u001b[0m\u001b[0m\n",
      "\u001b[1;32m~\\anaconda3\\lib\\site-packages\\matplotlib\\axes\\_subplots.py\u001b[0m in \u001b[0;36m__init__\u001b[1;34m(self, fig, *args, **kwargs)\u001b[0m\n\u001b[0;32m     57\u001b[0m                 \u001b[1;32mif\u001b[0m \u001b[0mnum\u001b[0m \u001b[1;33m<\u001b[0m \u001b[1;36m1\u001b[0m \u001b[1;32mor\u001b[0m \u001b[0mnum\u001b[0m \u001b[1;33m>\u001b[0m \u001b[0mrows\u001b[0m\u001b[1;33m*\u001b[0m\u001b[0mcols\u001b[0m\u001b[1;33m:\u001b[0m\u001b[1;33m\u001b[0m\u001b[1;33m\u001b[0m\u001b[0m\n\u001b[0;32m     58\u001b[0m                     raise ValueError(\n\u001b[1;32m---> 59\u001b[1;33m                         f\"num must be 1 <= num <= {rows*cols}, not {num}\")\n\u001b[0m\u001b[0;32m     60\u001b[0m                 self._subplotspec = GridSpec(\n\u001b[0;32m     61\u001b[0m                         rows, cols, figure=self.figure)[int(num) - 1]\n",
      "\u001b[1;31mValueError\u001b[0m: num must be 1 <= num <= 36, not 37"
     ]
    },
    {
     "data": {
      "image/png": "[encoded data removed]",
      "text/plain": [
       "<Figure size 1080x1368 with 36 Axes>"
      ]
     },
     "metadata": {
      "needs_background": "light"
     },
     "output_type": "display_data"
    }
   ],
   "source": [
    "dt1 = data\n",
    "feature = dt1.columns\n",
    "plt.figure(figsize=(15,19))\n",
    "for i in enumerate(feature):\n",
    "    plt.subplot(9,4,i[0]+1)\n",
    "    plt.boxplot(dt1[i[1]])\n",
    "    \n",
    "    plt.xlabel(i[1])"
   ]
  },
  {
   "cell_type": "code",
   "execution_count": 115,
   "metadata": {},
   "outputs": [
    {
     "data": {
      "text/plain": [
       "Index(['CRIM', 'ZN', 'INDUS', 'CHAS', 'NOX', 'RM', 'AGE', 'DIS', 'RAD', 'TAX',\n",
       "       'PTRATIO', 'B', 'LSTAT', 'CRIM2', 'ZN2', 'INDUS2', 'CHAS2', 'NOX2',\n",
       "       'RM2', 'AGE2', 'DIS2', 'RAD2', 'TAX2', 'PTRATIO2', 'B2', 'LSTAT2',\n",
       "       'CRIM3', 'ZN3', 'INDUS3', 'CHAS3', 'NOX3', 'RM3', 'AGE3', 'DIS3',\n",
       "       'RAD3', 'TAX3', 'PTRATIO3', 'B3', 'LSTAT3'],\n",
       "      dtype='object')"
      ]
     },
     "execution_count": 115,
     "metadata": {},
     "output_type": "execute_result"
    }
   ],
   "source": [
    "X = data.drop([ '<10', '10-20', '20-30', '30-40', '>40','class','MEDV'], axis =1)\n",
    "\n",
    "\n",
    "y = data['class']\n",
    "X.columns"
   ]
  },
  {
   "cell_type": "code",
   "execution_count": 116,
   "metadata": {},
   "outputs": [],
   "source": [
    "\n",
    "X_train, X_test, y_train, y_test = train_test_split( X, y, test_size=0.20, random_state=3954,stratify = y)\n"
   ]
  },
  {
   "cell_type": "code",
   "execution_count": 117,
   "metadata": {},
   "outputs": [
    {
     "name": "stdout",
     "output_type": "stream",
     "text": [
      "OVR training accuracy: 0.6311881188118812\n",
      "OVR test accuracy    : 0.5392156862745098\n"
     ]
    },
    {
     "name": "stderr",
     "output_type": "stream",
     "text": [
      "C:\\Users\\dell\\anaconda3\\lib\\site-packages\\sklearn\\linear_model\\_logistic.py:940: ConvergenceWarning: lbfgs failed to converge (status=1):\n",
      "STOP: TOTAL NO. of ITERATIONS REACHED LIMIT.\n",
      "\n",
      "Increase the number of iterations (max_iter) or scale the data as shown in:\n",
      "    https://scikit-learn.org/stable/modules/preprocessing.html\n",
      "Please also refer to the documentation for alternative solver options:\n",
      "    https://scikit-learn.org/stable/modules/linear_model.html#logistic-regression\n",
      "  extra_warning_msg=_LOGISTIC_SOLVER_CONVERGENCE_MSG)\n",
      "C:\\Users\\dell\\anaconda3\\lib\\site-packages\\sklearn\\linear_model\\_logistic.py:940: ConvergenceWarning: lbfgs failed to converge (status=1):\n",
      "STOP: TOTAL NO. of ITERATIONS REACHED LIMIT.\n",
      "\n",
      "Increase the number of iterations (max_iter) or scale the data as shown in:\n",
      "    https://scikit-learn.org/stable/modules/preprocessing.html\n",
      "Please also refer to the documentation for alternative solver options:\n",
      "    https://scikit-learn.org/stable/modules/linear_model.html#logistic-regression\n",
      "  extra_warning_msg=_LOGISTIC_SOLVER_CONVERGENCE_MSG)\n",
      "C:\\Users\\dell\\anaconda3\\lib\\site-packages\\sklearn\\linear_model\\_logistic.py:940: ConvergenceWarning: lbfgs failed to converge (status=1):\n",
      "STOP: TOTAL NO. of ITERATIONS REACHED LIMIT.\n",
      "\n",
      "Increase the number of iterations (max_iter) or scale the data as shown in:\n",
      "    https://scikit-learn.org/stable/modules/preprocessing.html\n",
      "Please also refer to the documentation for alternative solver options:\n",
      "    https://scikit-learn.org/stable/modules/linear_model.html#logistic-regression\n",
      "  extra_warning_msg=_LOGISTIC_SOLVER_CONVERGENCE_MSG)\n"
     ]
    }
   ],
   "source": [
    "# Fit one-vs-rest logistic regression classifier\n",
    "\n",
    "lr_ovr = LogisticRegression(random_state=5,multi_class=\"ovr\")\n",
    "lr_ovr.fit(X_train, y_train)\n",
    "\n",
    "print(\"OVR training accuracy:\", lr_ovr.score(X_train, y_train))\n",
    "print(\"OVR test accuracy    :\", lr_ovr.score(X_test, y_test))"
   ]
  },
  {
   "cell_type": "code",
   "execution_count": 118,
   "metadata": {},
   "outputs": [
    {
     "name": "stdout",
     "output_type": "stream",
     "text": [
      "Softmax training accuracy: 0.6212871287128713\n",
      "Softmax test accuracy    : 0.5490196078431373\n"
     ]
    },
    {
     "name": "stderr",
     "output_type": "stream",
     "text": [
      "C:\\Users\\dell\\anaconda3\\lib\\site-packages\\sklearn\\linear_model\\_logistic.py:940: ConvergenceWarning: lbfgs failed to converge (status=1):\n",
      "STOP: TOTAL NO. of ITERATIONS REACHED LIMIT.\n",
      "\n",
      "Increase the number of iterations (max_iter) or scale the data as shown in:\n",
      "    https://scikit-learn.org/stable/modules/preprocessing.html\n",
      "Please also refer to the documentation for alternative solver options:\n",
      "    https://scikit-learn.org/stable/modules/linear_model.html#logistic-regression\n",
      "  extra_warning_msg=_LOGISTIC_SOLVER_CONVERGENCE_MSG)\n"
     ]
    }
   ],
   "source": [
    "# Fit softmax classifier\n",
    "lr_mn = LogisticRegression(random_state=5,multi_class=\"multinomial\")\n",
    "lr_mn.fit(X_train, y_train)\n",
    "\n",
    "print(\"Softmax training accuracy:\", lr_mn.score(X_train, y_train))\n",
    "print(\"Softmax test accuracy    :\", lr_mn.score(X_test, y_test))"
   ]
  },
  {
   "cell_type": "code",
   "execution_count": null,
   "metadata": {},
   "outputs": [],
   "source": []
  },
  {
   "cell_type": "code",
   "execution_count": 119,
   "metadata": {},
   "outputs": [
    {
     "name": "stdout",
     "output_type": "stream",
     "text": [
      "[ 51.99495863  27.81475393  55.91830428   4.32827813  52.79615376\n",
      " 118.91926944  53.54845694  24.91234446  36.66254978  56.71490644\n",
      "  45.65997616  27.45290592 189.90880493  16.14236619  19.54908014\n",
      "  43.08812984   4.32827813  48.01660284 139.78727654  62.45279971\n",
      "  15.02411811  37.45415027  54.53455197  46.66605542  27.24903626\n",
      " 126.84648033   6.83446381  16.49767561  31.89433697   4.32827813\n",
      "  41.67937717 156.54112129  66.2769375    8.89778395  37.73740078\n",
      "  51.85855744  47.51912467  26.3602412   83.29463246]\n",
      "[1.25206810e-36 7.07506742e-21 5.46496065e-39 1.88635942e-03\n",
      " 4.08876543e-37 2.92846621e-71 1.43595408e-37 7.83014178e-19\n",
      " 6.75917951e-27 1.83849949e-39 1.04016645e-32 1.26666038e-20\n",
      " 6.21423353e-99 1.91820108e-12 5.79845691e-15 4.44949434e-31\n",
      " 1.88635942e-03 3.49096643e-34 3.79465357e-80 8.22182234e-43\n",
      " 1.31813150e-11 2.02460962e-27 3.66655872e-38 2.42877696e-33\n",
      " 1.75955098e-20 1.01110187e-74 2.31685651e-05 1.04217057e-12\n",
      " 1.08435404e-23 1.88635942e-03 3.56408274e-30 8.57336129e-87\n",
      " 5.46591866e-45 6.01926029e-07 1.31700290e-27 1.51560464e-36\n",
      " 7.12072682e-34 7.40816717e-20 3.45552279e-54]\n"
     ]
    }
   ],
   "source": [
    "# Feature selection\n",
    "\n",
    "from sklearn.datasets import load_digits\n",
    "from sklearn.feature_selection import SelectKBest, f_classif\n",
    "\n",
    "bestfeature = SelectKBest(score_func = f_classif, k=3)\n",
    "fit = bestfeature.fit(X,y)\n",
    "print(fit.scores_)\n",
    "print(fit.pvalues_)\n",
    "\n",
    "#1,3,5,6,7,10,13,14,20,21,24,27,33,34,40"
   ]
  },
  {
   "cell_type": "code",
   "execution_count": 86,
   "metadata": {},
   "outputs": [
    {
     "data": {
      "text/plain": [
       "[<matplotlib.lines.Line2D at 0x2691fd0ed08>]"
      ]
     },
     "execution_count": 86,
     "metadata": {},
     "output_type": "execute_result"
    },
    {
     "data": {
      "image/png": "[encoded data removed]",
      "text/plain": [
       "<Figure size 432x288 with 1 Axes>"
      ]
     },
     "metadata": {
      "needs_background": "light"
     },
     "output_type": "display_data"
    }
   ],
   "source": [
    "plt.plot(fit.scores_)"
   ]
  },
  {
   "cell_type": "code",
   "execution_count": 120,
   "metadata": {},
   "outputs": [
    {
     "name": "stdout",
     "output_type": "stream",
     "text": [
      "[51.85855743831107, 51.994958629672674, 52.79615376282784, 53.54845694476061, 54.53455196760145, 55.91830428253231, 56.71490644076846, 62.45279970560977, 66.27693750157702, 83.29463245575239, 118.91926944415665, 126.84648033494403, 139.7872765395925, 156.54112129330684, 189.90880493339105]\n"
     ]
    }
   ],
   "source": [
    "l = list(fit.scores_)\n",
    "n = 15\n",
    " \n",
    "l.sort()\n",
    "print(l[-n:])\n"
   ]
  },
  {
   "cell_type": "code",
   "execution_count": 121,
   "metadata": {},
   "outputs": [],
   "source": [
    "X1 = X[['CRIM','INDUS','NOX','RM','AGE','TAX','LSTAT','TAX3','RM2','AGE2', 'TAX2','LSTAT2','RM3','AGE3','LSTAT3']]"
   ]
  },
  {
   "cell_type": "code",
   "execution_count": 122,
   "metadata": {
    "scrolled": true
   },
   "outputs": [
    {
     "data": {
      "text/html": [
       "<div>\n",
       "<style scoped>\n",
       "    .dataframe tbody tr th:only-of-type {\n",
       "        vertical-align: middle;\n",
       "    }\n",
       "\n",
       "    .dataframe tbody tr th {\n",
       "        vertical-align: top;\n",
       "    }\n",
       "\n",
       "    .dataframe thead th {\n",
       "        text-align: right;\n",
       "    }\n",
       "</style>\n",
       "<table border=\"1\" class=\"dataframe\">\n",
       "  <thead>\n",
       "    <tr style=\"text-align: right;\">\n",
       "      <th></th>\n",
       "      <th>CRIM</th>\n",
       "      <th>INDUS</th>\n",
       "      <th>NOX</th>\n",
       "      <th>RM</th>\n",
       "      <th>AGE</th>\n",
       "      <th>TAX</th>\n",
       "      <th>LSTAT</th>\n",
       "      <th>TAX3</th>\n",
       "      <th>RM2</th>\n",
       "      <th>AGE2</th>\n",
       "      <th>TAX2</th>\n",
       "      <th>LSTAT2</th>\n",
       "      <th>RM3</th>\n",
       "      <th>AGE3</th>\n",
       "      <th>LSTAT3</th>\n",
       "    </tr>\n",
       "  </thead>\n",
       "  <tbody>\n",
       "    <tr>\n",
       "      <th>0</th>\n",
       "      <td>0.00632</td>\n",
       "      <td>2.31</td>\n",
       "      <td>0.538</td>\n",
       "      <td>6.575</td>\n",
       "      <td>65.2</td>\n",
       "      <td>296</td>\n",
       "      <td>4.98</td>\n",
       "      <td>25934336</td>\n",
       "      <td>43.230625</td>\n",
       "      <td>4251.04</td>\n",
       "      <td>87616</td>\n",
       "      <td>24.8004</td>\n",
       "      <td>284.241359</td>\n",
       "      <td>277167.808</td>\n",
       "      <td>123.505992</td>\n",
       "    </tr>\n",
       "    <tr>\n",
       "      <th>1</th>\n",
       "      <td>0.02731</td>\n",
       "      <td>7.07</td>\n",
       "      <td>0.469</td>\n",
       "      <td>6.421</td>\n",
       "      <td>78.9</td>\n",
       "      <td>242</td>\n",
       "      <td>9.14</td>\n",
       "      <td>14172488</td>\n",
       "      <td>41.229241</td>\n",
       "      <td>6225.21</td>\n",
       "      <td>58564</td>\n",
       "      <td>83.5396</td>\n",
       "      <td>264.732957</td>\n",
       "      <td>491169.069</td>\n",
       "      <td>763.551944</td>\n",
       "    </tr>\n",
       "    <tr>\n",
       "      <th>2</th>\n",
       "      <td>0.02729</td>\n",
       "      <td>7.07</td>\n",
       "      <td>0.469</td>\n",
       "      <td>7.185</td>\n",
       "      <td>61.1</td>\n",
       "      <td>242</td>\n",
       "      <td>4.03</td>\n",
       "      <td>14172488</td>\n",
       "      <td>51.624225</td>\n",
       "      <td>3733.21</td>\n",
       "      <td>58564</td>\n",
       "      <td>16.2409</td>\n",
       "      <td>370.920057</td>\n",
       "      <td>228099.131</td>\n",
       "      <td>65.450827</td>\n",
       "    </tr>\n",
       "    <tr>\n",
       "      <th>3</th>\n",
       "      <td>0.03237</td>\n",
       "      <td>2.18</td>\n",
       "      <td>0.458</td>\n",
       "      <td>6.998</td>\n",
       "      <td>45.8</td>\n",
       "      <td>222</td>\n",
       "      <td>2.94</td>\n",
       "      <td>10941048</td>\n",
       "      <td>48.972004</td>\n",
       "      <td>2097.64</td>\n",
       "      <td>49284</td>\n",
       "      <td>8.6436</td>\n",
       "      <td>342.706084</td>\n",
       "      <td>96071.912</td>\n",
       "      <td>25.412184</td>\n",
       "    </tr>\n",
       "    <tr>\n",
       "      <th>4</th>\n",
       "      <td>0.06905</td>\n",
       "      <td>2.18</td>\n",
       "      <td>0.458</td>\n",
       "      <td>7.147</td>\n",
       "      <td>54.2</td>\n",
       "      <td>222</td>\n",
       "      <td>5.33</td>\n",
       "      <td>10941048</td>\n",
       "      <td>51.079609</td>\n",
       "      <td>2937.64</td>\n",
       "      <td>49284</td>\n",
       "      <td>28.4089</td>\n",
       "      <td>365.065966</td>\n",
       "      <td>159220.088</td>\n",
       "      <td>151.419437</td>\n",
       "    </tr>\n",
       "    <tr>\n",
       "      <th>...</th>\n",
       "      <td>...</td>\n",
       "      <td>...</td>\n",
       "      <td>...</td>\n",
       "      <td>...</td>\n",
       "      <td>...</td>\n",
       "      <td>...</td>\n",
       "      <td>...</td>\n",
       "      <td>...</td>\n",
       "      <td>...</td>\n",
       "      <td>...</td>\n",
       "      <td>...</td>\n",
       "      <td>...</td>\n",
       "      <td>...</td>\n",
       "      <td>...</td>\n",
       "      <td>...</td>\n",
       "    </tr>\n",
       "    <tr>\n",
       "      <th>501</th>\n",
       "      <td>0.06263</td>\n",
       "      <td>11.93</td>\n",
       "      <td>0.573</td>\n",
       "      <td>6.593</td>\n",
       "      <td>69.1</td>\n",
       "      <td>273</td>\n",
       "      <td>9.67</td>\n",
       "      <td>20346417</td>\n",
       "      <td>43.467649</td>\n",
       "      <td>4774.81</td>\n",
       "      <td>74529</td>\n",
       "      <td>93.5089</td>\n",
       "      <td>286.582210</td>\n",
       "      <td>329939.371</td>\n",
       "      <td>904.231063</td>\n",
       "    </tr>\n",
       "    <tr>\n",
       "      <th>502</th>\n",
       "      <td>0.04527</td>\n",
       "      <td>11.93</td>\n",
       "      <td>0.573</td>\n",
       "      <td>6.120</td>\n",
       "      <td>76.7</td>\n",
       "      <td>273</td>\n",
       "      <td>9.08</td>\n",
       "      <td>20346417</td>\n",
       "      <td>37.454400</td>\n",
       "      <td>5882.89</td>\n",
       "      <td>74529</td>\n",
       "      <td>82.4464</td>\n",
       "      <td>229.220928</td>\n",
       "      <td>451217.663</td>\n",
       "      <td>748.613312</td>\n",
       "    </tr>\n",
       "    <tr>\n",
       "      <th>503</th>\n",
       "      <td>0.06076</td>\n",
       "      <td>11.93</td>\n",
       "      <td>0.573</td>\n",
       "      <td>6.976</td>\n",
       "      <td>91.0</td>\n",
       "      <td>273</td>\n",
       "      <td>5.64</td>\n",
       "      <td>20346417</td>\n",
       "      <td>48.664576</td>\n",
       "      <td>8281.00</td>\n",
       "      <td>74529</td>\n",
       "      <td>31.8096</td>\n",
       "      <td>339.484082</td>\n",
       "      <td>753571.000</td>\n",
       "      <td>179.406144</td>\n",
       "    </tr>\n",
       "    <tr>\n",
       "      <th>504</th>\n",
       "      <td>0.10959</td>\n",
       "      <td>11.93</td>\n",
       "      <td>0.573</td>\n",
       "      <td>6.794</td>\n",
       "      <td>89.3</td>\n",
       "      <td>273</td>\n",
       "      <td>6.48</td>\n",
       "      <td>20346417</td>\n",
       "      <td>46.158436</td>\n",
       "      <td>7974.49</td>\n",
       "      <td>74529</td>\n",
       "      <td>41.9904</td>\n",
       "      <td>313.600414</td>\n",
       "      <td>712121.957</td>\n",
       "      <td>272.097792</td>\n",
       "    </tr>\n",
       "    <tr>\n",
       "      <th>505</th>\n",
       "      <td>0.04741</td>\n",
       "      <td>11.93</td>\n",
       "      <td>0.573</td>\n",
       "      <td>6.030</td>\n",
       "      <td>80.8</td>\n",
       "      <td>273</td>\n",
       "      <td>7.88</td>\n",
       "      <td>20346417</td>\n",
       "      <td>36.360900</td>\n",
       "      <td>6528.64</td>\n",
       "      <td>74529</td>\n",
       "      <td>62.0944</td>\n",
       "      <td>219.256227</td>\n",
       "      <td>527514.112</td>\n",
       "      <td>489.303872</td>\n",
       "    </tr>\n",
       "  </tbody>\n",
       "</table>\n",
       "<p>506 rows × 15 columns</p>\n",
       "</div>"
      ],
      "text/plain": [
       "        CRIM  INDUS    NOX     RM   AGE  TAX  LSTAT      TAX3        RM2  \\\n",
       "0    0.00632   2.31  0.538  6.575  65.2  296   4.98  25934336  43.230625   \n",
       "1    0.02731   7.07  0.469  6.421  78.9  242   9.14  14172488  41.229241   \n",
       "2    0.02729   7.07  0.469  7.185  61.1  242   4.03  14172488  51.624225   \n",
       "3    0.03237   2.18  0.458  6.998  45.8  222   2.94  10941048  48.972004   \n",
       "4    0.06905   2.18  0.458  7.147  54.2  222   5.33  10941048  51.079609   \n",
       "..       ...    ...    ...    ...   ...  ...    ...       ...        ...   \n",
       "501  0.06263  11.93  0.573  6.593  69.1  273   9.67  20346417  43.467649   \n",
       "502  0.04527  11.93  0.573  6.120  76.7  273   9.08  20346417  37.454400   \n",
       "503  0.06076  11.93  0.573  6.976  91.0  273   5.64  20346417  48.664576   \n",
       "504  0.10959  11.93  0.573  6.794  89.3  273   6.48  20346417  46.158436   \n",
       "505  0.04741  11.93  0.573  6.030  80.8  273   7.88  20346417  36.360900   \n",
       "\n",
       "        AGE2   TAX2   LSTAT2         RM3        AGE3      LSTAT3  \n",
       "0    4251.04  87616  24.8004  284.241359  277167.808  123.505992  \n",
       "1    6225.21  58564  83.5396  264.732957  491169.069  763.551944  \n",
       "2    3733.21  58564  16.2409  370.920057  228099.131   65.450827  \n",
       "3    2097.64  49284   8.6436  342.706084   96071.912   25.412184  \n",
       "4    2937.64  49284  28.4089  365.065966  159220.088  151.419437  \n",
       "..       ...    ...      ...         ...         ...         ...  \n",
       "501  4774.81  74529  93.5089  286.582210  329939.371  904.231063  \n",
       "502  5882.89  74529  82.4464  229.220928  451217.663  748.613312  \n",
       "503  8281.00  74529  31.8096  339.484082  753571.000  179.406144  \n",
       "504  7974.49  74529  41.9904  313.600414  712121.957  272.097792  \n",
       "505  6528.64  74529  62.0944  219.256227  527514.112  489.303872  \n",
       "\n",
       "[506 rows x 15 columns]"
      ]
     },
     "execution_count": 122,
     "metadata": {},
     "output_type": "execute_result"
    }
   ],
   "source": [
    "X1"
   ]
  },
  {
   "cell_type": "code",
   "execution_count": 123,
   "metadata": {
    "scrolled": true
   },
   "outputs": [
    {
     "name": "stdout",
     "output_type": "stream",
     "text": [
      "OVR training accuracy: 0.594059405940594\n",
      "OVR test accuracy    : 0.5784313725490197\n",
      "Softmax training accuracy: 0.5742574257425742\n",
      "Softmax test accuracy    : 0.5588235294117647\n"
     ]
    },
    {
     "name": "stderr",
     "output_type": "stream",
     "text": [
      "C:\\Users\\dell\\anaconda3\\lib\\site-packages\\sklearn\\linear_model\\_logistic.py:940: ConvergenceWarning: lbfgs failed to converge (status=1):\n",
      "STOP: TOTAL NO. of ITERATIONS REACHED LIMIT.\n",
      "\n",
      "Increase the number of iterations (max_iter) or scale the data as shown in:\n",
      "    https://scikit-learn.org/stable/modules/preprocessing.html\n",
      "Please also refer to the documentation for alternative solver options:\n",
      "    https://scikit-learn.org/stable/modules/linear_model.html#logistic-regression\n",
      "  extra_warning_msg=_LOGISTIC_SOLVER_CONVERGENCE_MSG)\n"
     ]
    }
   ],
   "source": [
    "# for class 0\n",
    "\n",
    "from sklearn.model_selection import train_test_split\n",
    "X_train, X_test, y_train, y_test = train_test_split( X1, y, test_size=0.20, random_state=3954,stratify = y)\n",
    "\n",
    "\n",
    "# Fit one-vs-rest logistic regression classifier\n",
    "from sklearn.linear_model import LogisticRegression\n",
    "\n",
    "lr_ovr = LogisticRegression(random_state=5,multi_class=\"ovr\")\n",
    "lr_ovr.fit(X_train, y_train)\n",
    "\n",
    "print(\"OVR training accuracy:\", lr_ovr.score(X_train, y_train))\n",
    "print(\"OVR test accuracy    :\", lr_ovr.score(X_test, y_test))\n",
    "\n",
    "# Fit softmax classifier\n",
    "lr_mn = LogisticRegression(random_state=5,multi_class=\"multinomial\")\n",
    "lr_mn.fit(X_train, y_train)\n",
    "\n",
    "print(\"Softmax training accuracy:\", lr_mn.score(X_train, y_train))\n",
    "print(\"Softmax test accuracy    :\", lr_mn.score(X_test, y_test))"
   ]
  },
  {
   "cell_type": "code",
   "execution_count": 124,
   "metadata": {},
   "outputs": [
    {
     "name": "stdout",
     "output_type": "stream",
     "text": [
      "0.5784313725490197\n",
      "              precision    recall  f1-score   support\n",
      "\n",
      "           1       0.67      0.40      0.50         5\n",
      "           2       0.54      0.70      0.61        37\n",
      "           3       0.61      0.72      0.66        43\n",
      "           4       0.00      0.00      0.00        11\n",
      "           5       0.00      0.00      0.00         6\n",
      "\n",
      "    accuracy                           0.58       102\n",
      "   macro avg       0.36      0.36      0.35       102\n",
      "weighted avg       0.49      0.58      0.52       102\n",
      "\n"
     ]
    },
    {
     "name": "stderr",
     "output_type": "stream",
     "text": [
      "C:\\Users\\dell\\anaconda3\\lib\\site-packages\\sklearn\\metrics\\_classification.py:1272: UndefinedMetricWarning: Precision and F-score are ill-defined and being set to 0.0 in labels with no predicted samples. Use `zero_division` parameter to control this behavior.\n",
      "  _warn_prf(average, modifier, msg_start, len(result))\n"
     ]
    }
   ],
   "source": [
    "predict=lr_ovr.predict(X_test)\n",
    "\n",
    "\n",
    "from sklearn.metrics import confusion_matrix \n",
    "\n",
    "pd.DataFrame(confusion_matrix(y_test,predict))\n",
    "\n",
    "#Checking for model accuracy score\n",
    "from sklearn import metrics\n",
    "print(metrics.accuracy_score(y_test, predict))\n",
    "\n",
    "from sklearn.metrics import classification_report\n",
    "\n",
    "print(classification_report(y_test,predict))"
   ]
  },
  {
   "cell_type": "code",
   "execution_count": null,
   "metadata": {},
   "outputs": [],
   "source": []
  },
  {
   "cell_type": "code",
   "execution_count": null,
   "metadata": {},
   "outputs": [],
   "source": []
  },
  {
   "cell_type": "code",
   "execution_count": null,
   "metadata": {},
   "outputs": [],
   "source": []
  },
  {
   "cell_type": "code",
   "execution_count": null,
   "metadata": {},
   "outputs": [],
   "source": []
  },
  {
   "cell_type": "code",
   "execution_count": null,
   "metadata": {},
   "outputs": [],
   "source": []
  }
 ],
 "metadata": {
  "kernelspec": {
   "display_name": "Python 3",
   "language": "python",
   "name": "python3"
  },
  "language_info": {
   "codemirror_mode": {
    "name": "ipython",
    "version": 3
   },
   "file_extension": ".py",
   "mimetype": "text/x-python",
   "name": "python",
   "nbconvert_exporter": "python",
   "pygments_lexer": "ipython3",
   "version": "3.7.6"
  }
 },
 "nbformat": 4,
 "nbformat_minor": 4
}
